{
 "cells": [
  {
   "cell_type": "code",
   "execution_count": 89,
   "metadata": {
    "pycharm": {
     "is_executing": false,
     "name": "#%%\n"
    }
   },
   "outputs": [],
   "source": [
    "import matplotlib.pyplot as plt\n",
    "import numpy\n",
    "import skimage.io\n",
    "import skimage.transform\n",
    "import tensorflow as tf\n",
    "from tensorflow.python.keras.layers import Conv2D"
   ]
  },
  {
   "cell_type": "markdown",
   "metadata": {
    "pycharm": {
     "name": "#%% md\n"
    }
   },
   "source": [
    "## Learning Objective Error Map\n",
    "\n",
    "In the first stage of training, the objective error maps are used as proxy regression targets to get the effect of \n",
    "increasing data. The loss function is defined by the mean squared error between the predicted and ground-truth error\n",
    "maps."
   ]
  },
  {
   "cell_type": "markdown",
   "metadata": {
    "pycharm": {
     "name": "#%% md\n"
    }
   },
   "source": [
    "\\begin{align*}\n",
    "\\mathcal{L}_1(\\hat{I}_d; \\theta_f, \\theta_g) = ||g(f(\\hat{I}_d, \\theta_f), \\theta_g) - \\mathbf{e}_{gt}) \\odot \\mathbf{\\hat{r}}||^2_2\n",
    "\\end{align*}"
   ]
  },
  {
   "cell_type": "markdown",
   "metadata": {
    "pycharm": {
     "name": "#%% md\n"
    }
   },
   "source": [
    "where,"
   ]
  },
  {
   "cell_type": "markdown",
   "metadata": {
    "pycharm": {
     "name": "#%% md\n"
    }
   },
   "source": [
    "\\begin{align*}\n",
    "\\mathbf{e}_{gt} = err(\\hat{I}_r, \\hat{I}_d)\n",
    "\\end{align*}"
   ]
  },
  {
   "cell_type": "markdown",
   "metadata": {},
   "source": [
    "and $err(\\cdot)$ is any error function. The authors decided to use"
   ]
  },
  {
   "cell_type": "markdown",
   "metadata": {
    "pycharm": {
     "name": "#%% md\n"
    }
   },
   "source": [
    "\\begin{align*}\n",
    "\\mathbf{e}_{gt} = | \\hat{I}_r -  \\hat{I}_d | ^ p\n",
    "\\end{align*}"
   ]
  },
  {
   "cell_type": "markdown",
   "metadata": {},
   "source": [
    "with $p=0.2$ in order to prevent that the values in the error map are small or close to zero."
   ]
  },
  {
   "cell_type": "code",
   "execution_count": 90,
   "metadata": {
    "pycharm": {
     "is_executing": false,
     "name": "#%%\n"
    }
   },
   "outputs": [],
   "source": [
    "\n",
    "\n",
    "@tf.function\n",
    "def error_map(reference: tf.Tensor, distorted: tf.Tensor, p: float=0.2) -> tf.Tensor:\n",
    "    assert reference.shape == distorted.shape, 'Both images must be of the same size'\n",
    "    return tf.pow(tf.abs(reference - distorted), p)"
   ]
  },
  {
   "cell_type": "markdown",
   "metadata": {},
   "source": [
    "## Reliability Map Prediction\n",
    "\n",
    "According to the author, the model is likely to fail to predict the objective error map of\n",
    "homogeneous regions without having information of its pristine image. Thus, he proposes a \n",
    "reliability function. The assumption is that blurry regions have lower reliability than textured \n",
    "regions."
   ]
  },
  {
   "cell_type": "markdown",
   "metadata": {
    "pycharm": {
     "name": "#%% md\n"
    }
   },
   "source": [
    "\\begin{align*}\n",
    "\\mathbf{r} = \\frac{2}{1 + exp(-\\alpha|\\hat{I}_d|)} - 1\n",
    "\\end{align*}"
   ]
  },
  {
   "cell_type": "markdown",
   "metadata": {
    "pycharm": {
     "name": "#%% md\n"
    }
   },
   "source": [
    "where α controls the saturation property of the reliability map. To assign sufficiently\n",
    "large values to pixels with small values, the positive part of a sigmoid is used."
   ]
  },
  {
   "cell_type": "code",
   "execution_count": 91,
   "metadata": {
    "pycharm": {
     "is_executing": false,
     "name": "#%%\n"
    }
   },
   "outputs": [],
   "source": [
    "@tf.function\n",
    "def reliability_map(distorted: tf.Tensor, alpha: float) -> tf.Tensor:\n",
    "    assert distorted.dtype == tf.float32, 'The Tensor must by of dtype tf.float32'\n",
    "    return 2 / (1 + tf.exp(- alpha * tf.abs(distorted))) - 1"
   ]
  },
  {
   "cell_type": "markdown",
   "metadata": {
    "pycharm": {
     "name": "#%% md\n"
    }
   },
   "source": [
    "Besides, to prevent the reliability map to directly affect the predicted score,\n",
    "it is divided by its average"
   ]
  },
  {
   "cell_type": "markdown",
   "metadata": {},
   "source": [
    "\\begin{align*}\n",
    "\\mathbf{\\hat{r}} = \\frac{1}{\\frac{1}{H_rW_r}\\sum_{(i,j)}\\mathbf{r}(i,j)}\\mathbf{r}\n",
    "\\end{align*}"
   ]
  },
  {
   "cell_type": "code",
   "execution_count": 92,
   "metadata": {
    "pycharm": {
     "is_executing": false,
     "name": "#%%\n"
    }
   },
   "outputs": [],
   "source": [
    "@tf.function\n",
    "def average_reliability_map(distorted: tf.Tensor, alpha: float) -> tf.Tensor:\n",
    "    r = reliability_map(distorted, alpha)\n",
    "    return r / tf.reduce_mean(r)"
   ]
  },
  {
   "cell_type": "code",
   "execution_count": 93,
   "outputs": [],
   "source": [
    "def normalize_kernel(kernel: numpy.ndarray) -> numpy.ndarray:\n",
    "    return kernel / numpy.sum(kernel)\n",
    "\n",
    "\n",
    "def gaussian_kernel2d(kernel_size, sigma: float):\n",
    "    y, x = numpy.indices((kernel_size, kernel_size)) - int(kernel_size / 2)\n",
    "    kernel = 1 / (2 * numpy.pi * sigma ** 2) * numpy.exp(-(x ** 2 + y ** 2) / (2 * sigma ** 2))\n",
    "    return normalize_kernel(kernel)"
   ],
   "metadata": {
    "collapsed": false,
    "pycharm": {
     "name": "#%%\n",
     "is_executing": false
    }
   }
  },
  {
   "cell_type": "code",
   "execution_count": 113,
   "outputs": [],
   "source": [
    "@tf.function\n",
    "def image_normalization(image: tf.Tensor) -> tf.Tensor:\n",
    "    if image.dtype != tf.float32:\n",
    "        image = tf.cast(image, tf.float32)\n",
    "    \n",
    "    shape = image.get_shape()\n",
    "    rescale_size = tf.convert_to_tensor(shape[:2], dtype=tf.int32) / 4\n",
    "    kernel = tf.cast(gaussian_kernel2d(16, 7/6), tf.float32)\n",
    "    image_low = tf.nn.conv2d(image[tf.newaxis, :, :, :], kernel[:, :, tf.newaxis, tf.newaxis], strides=1, padding='SAME')\n",
    "    image_low = tf.image.resize(\n",
    "        image_low,\n",
    "        tf.cast(rescale_size, tf.int32),\n",
    "        tf.image.ResizeMethod.BICUBIC)\n",
    "    kernel = tf.cast(gaussian_kernel2d(16, 7/6), tf.float32)\n",
    "    image_low = tf.nn.conv2d(image[tf.newaxis, :, :, :], kernel[:, :, tf.newaxis, tf.newaxis], strides=1, padding='SAME')\n",
    "    image_low = tf.image.resize(\n",
    "        image_low,\n",
    "        tf.cast(shape[:2], tf.int32),\n",
    "        tf.image.ResizeMethod.BICUBIC)\n",
    "    # image_low = skimage.transform.rescale(\n",
    "    #     image,\n",
    "    #     1 / 4,\n",
    "    #     multichannel=True,\n",
    "    #     anti_aliasing=True,\n",
    "    #     anti_aliasing_sigma=2)\n",
    "    # image_low = skimage.transform.rescale(\n",
    "    #     image_low, \n",
    "    #     4,\n",
    "    #     multichannel=True,\n",
    "    #     anti_aliasing=True,\n",
    "    #     anti_aliasing_sigma=2)\n",
    "    return tf.cast(image, tf.float32) - tf.reshape(image_low, shape)"
   ],
   "metadata": {
    "collapsed": false,
    "pycharm": {
     "name": "#%%\n",
     "is_executing": false
    }
   }
  },
  {
   "cell_type": "code",
   "execution_count": 114,
   "outputs": [],
   "source": [
    "url_template = 'https://data.ocampor.ai/image-quality/tid2013/{image_path}'\n",
    "reference_path = 'reference_images/i02.bmp'\n",
    "file_paths  = [\n",
    "    'distorted_images/i02_11_2.bmp',\n",
    "    'distorted_images/i02_11_3.bmp',\n",
    "    'distorted_images/i02_11_5.bmp']"
   ],
   "metadata": {
    "collapsed": false,
    "pycharm": {
     "name": "#%%\n",
     "is_executing": false
    }
   }
  },
  {
   "cell_type": "code",
   "execution_count": 115,
   "outputs": [],
   "source": [
    "def show_images(images: list, **kwargs):\n",
    "    fig, axs = plt.subplots(1, len(images), figsize=(19,10))\n",
    "    for image, ax in zip(images, axs):\n",
    "        _ = ax.imshow(image, **kwargs)\n",
    "        ax.axis('off')\n",
    "    fig.tight_layout()\n",
    "\n",
    "reference = skimage.io.imread(url_template.format(image_path=reference_path))\n",
    "reference = tf.image.rgb_to_grayscale(reference)\n",
    "reference_d = image_normalization(reference)\n",
    "\n",
    "e_r = list()\n",
    "avg_r = list()\n",
    "alpha = 1\n",
    "images = list()\n",
    "e_gt = list()\n",
    "for path in file_paths:\n",
    "    distorted = skimage.io.imread(url_template.format(image_path=path))\n",
    "    distorted = tf.image.rgb_to_grayscale(distorted)\n",
    "    distorted_d = image_normalization(distorted)\n",
    "    \n",
    "    e = error_map(reference_d, distorted_d)\n",
    "    r = average_reliability_map(distorted_d, alpha)\n",
    "    images.append(tf.image.grayscale_to_rgb(distorted))\n",
    "    avg_r.append(tf.image.grayscale_to_rgb(r))\n",
    "    e_gt.append(tf.image.grayscale_to_rgb(e))\n",
    "    e_r.append(tf.image.grayscale_to_rgb(e * r))\n",
    "    \n",
    "show_images(images, cmap='gray')\n",
    "show_images(e_gt, cmap='gray')\n",
    "show_images(avg_r, cmap='gray')"
   ],
   "metadata": {
    "collapsed": false,
    "pycharm": {
     "name": "#%%\n",
     "is_executing": false
    }
   }
  },
  {
   "cell_type": "code",
   "execution_count": 81,
   "outputs": [],
   "source": [
    "(x_train, y_train), (x_test, y_test) = tf.keras.datasets.mnist.load_data()\n",
    "x_train = x_train.astype('float32').reshape(60000, 28, 28, 1) / 255\n",
    "x_test = x_test.astype('float32').reshape(10000, 28, 28, 1) / 255\n",
    "y_train = tf.image.resize(x_train, [7, 7])"
   ],
   "metadata": {
    "collapsed": false,
    "pycharm": {
     "name": "#%%\n",
     "is_executing": false
    }
   }
  },
  {
   "cell_type": "code",
   "execution_count": 61,
   "metadata": {
    "pycharm": {
     "is_executing": false,
     "name": "#%%\n"
    }
   },
   "outputs": [],
   "source": [
    "input = tf.keras.Input(shape=(None, None, 1), batch_size=1, name='original_image')\n",
    "f = Conv2D(48, (3, 3), name='Conv1', activation='relu', padding='same')(input)\n",
    "f = Conv2D(48, (3, 3), name='Conv2', activation='relu', padding='same', strides=(2, 2))(f)\n",
    "f = Conv2D(64, (3, 3), name='Conv3', activation='relu', padding='same')(f)\n",
    "f = Conv2D(64, (3, 3), name='Conv4', activation='relu', padding='same', strides=(2, 2))(f)\n",
    "f = Conv2D(64, (3, 3), name='Conv5', activation='relu', padding='same')(f)\n",
    "f = Conv2D(64, (3, 3), name='Conv6', activation='relu', padding='same')(f)\n",
    "f = Conv2D(128, (3, 3), name='Conv7', activation='relu', padding='same')(f)\n",
    "f = Conv2D(128, (3, 3), name='Conv8', activation='relu', padding='same')(f)\n",
    "g = Conv2D(1, (1, 1), name='Conv9', padding='same', activation='linear')(f)\n",
    "objective_error_map = tf.keras.Model(input, g, name='objective_error_map')"
   ]
  },
  {
   "cell_type": "code",
   "execution_count": null,
   "metadata": {
    "pycharm": {
     "is_executing": false,
     "name": "#%%\n"
    }
   },
   "outputs": [],
   "source": [
    "optimizer = tf.optimizers.Nadam(learning_rate=2 * 10 ** -4)\n",
    "objective_error_map.compile(\n",
    "    optimizer=optimizer,\n",
    "    loss=tf.losses.MeanSquaredError(),\n",
    "    metrics=[tf.metrics.MeanSquaredError()])"
   ]
  },
  {
   "cell_type": "code",
   "execution_count": null,
   "metadata": {
    "pycharm": {
     "is_executing": false,
     "name": "#%%\n"
    }
   },
   "outputs": [],
   "source": [
    "objective_error_map.summary()"
   ]
  },
  {
   "cell_type": "code",
   "execution_count": 19,
   "metadata": {
    "pycharm": {
     "is_executing": false,
     "name": "#%%\n"
    }
   },
   "outputs": [],
   "source": [
    "history = objective_error_map.fit(x_train, y_train,\n",
    "                    batch_size=1,\n",
    "                    epochs=1,\n",
    "                    validation_split=0.2)"
   ]
  },
  {
   "cell_type": "code",
   "execution_count": 44,
   "metadata": {},
   "outputs": [],
   "source": [
    "plt.imshow(x_test[10:11].reshape([28, 28]))\n",
    "plt.show()"
   ]
  },
  {
   "cell_type": "code",
   "execution_count": 45,
   "metadata": {},
   "outputs": [],
   "source": [
    "x = objective_error_map.predict(x_test[10:11])\n",
    "plt.imshow(x.reshape([7, 7]))\n",
    "plt.show()"
   ]
  }
 ],
 "metadata": {
  "kernelspec": {
   "display_name": "Python 3",
   "language": "python",
   "name": "python3"
  },
  "language_info": {
   "codemirror_mode": {
    "name": "ipython",
    "version": 3
   },
   "file_extension": ".py",
   "mimetype": "text/x-python",
   "name": "python",
   "nbconvert_exporter": "python",
   "pygments_lexer": "ipython3",
   "version": "3.7.4"
  },
  "pycharm": {
   "stem_cell": {
    "cell_type": "raw",
    "source": [],
    "metadata": {
     "collapsed": false
    }
   }
  }
 },
 "nbformat": 4,
 "nbformat_minor": 1
}